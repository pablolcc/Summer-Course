{
 "cells": [
  {
   "cell_type": "markdown",
   "metadata": {},
   "source": [
    "# Bayesian Neural Network Regression"
   ]
  },
  {
   "cell_type": "code",
   "execution_count": null,
   "metadata": {},
   "outputs": [],
   "source": [
    "# Torch BNN installation (Do not run):\n",
    "import sys\n",
    "!{sys.executable} -m pip install torchbnn"
   ]
  },
  {
   "cell_type": "code",
   "execution_count": 1,
   "metadata": {},
   "outputs": [],
   "source": [
    "# MODULE IMPORT\n",
    "import numpy as np\n",
    "import pandas as pd\n",
    "\n",
    "import torch\n",
    "import torch.nn as nn\n",
    "import torch.optim as optim\n",
    "\n",
    "import torchbnn as bnn"
   ]
  },
  {
   "cell_type": "code",
   "execution_count": 2,
   "metadata": {},
   "outputs": [],
   "source": [
    "# DATA DOWNLOAD\n",
    "# Download all the required datasets:\n",
    "%store -r x_train\n",
    "%store -r x_test\n",
    "%store -r y_train\n",
    "%store -r y_test"
   ]
  },
  {
   "cell_type": "code",
   "execution_count": 3,
   "metadata": {},
   "outputs": [],
   "source": [
    "# DATA PREPARATION\n",
    "# State the training data type as float values:\n",
    "x = x_train.float()\n",
    "y = y_train.float()\n",
    "# Unsqueeze the data to the appropiate 3D dimension:\n",
    "x = torch.unsqueeze(x, dim=1)\n",
    "y = torch.unsqueeze(y, dim=1)"
   ]
  },
  {
   "cell_type": "code",
   "execution_count": 4,
   "metadata": {},
   "outputs": [
    {
     "name": "stdout",
     "output_type": "stream",
     "text": [
      "torch.Size([25, 1, 240])\n",
      "torch.Size([25, 1, 1])\n"
     ]
    }
   ],
   "source": [
    "# Display the tensor shape to assess the structure:\n",
    "print(x.shape)\n",
    "print(y.shape)"
   ]
  },
  {
   "cell_type": "code",
   "execution_count": 5,
   "metadata": {},
   "outputs": [],
   "source": [
    "# MODEL ARCHITECTURE\n",
    "# Set the desired model architecture (Nodes, Layers, Activation Functions):\n",
    "model = nn.Sequential(\n",
    "    bnn.BayesLinear(prior_mu=0, prior_sigma=0.1, in_features=240, out_features=48),\n",
    "    nn.ReLU(),\n",
    "    bnn.BayesLinear(prior_mu=0, prior_sigma=0.1, in_features=48, out_features=8),\n",
    "    nn.ReLU(),\n",
    "    bnn.BayesLinear(prior_mu=0, prior_sigma=0.1, in_features=8, out_features=1),\n",
    ")"
   ]
  },
  {
   "cell_type": "code",
   "execution_count": 6,
   "metadata": {},
   "outputs": [],
   "source": [
    "# LOSS FUNCTIONS\n",
    "# Define the Mean Squared Error loss function:\n",
    "mse_loss = nn.MSELoss()\n",
    "# Define the Kullback-Leibler Divergence:\n",
    "kl_loss = bnn.BKLLoss(reduction='mean', last_layer_only=False)\n",
    "# Define the optimisation algorithm:\n",
    "optimizer = optim.Adam(model.parameters(), lr=0.01)"
   ]
  },
  {
   "cell_type": "code",
   "execution_count": 7,
   "metadata": {},
   "outputs": [],
   "source": [
    "# TRAINING PARAMETERS\n",
    "# State the weight given to the KL Divergence:\n",
    "kl_weight = 0.1\n",
    "# State the number of epochs used for backpropagation training:\n",
    "epochs = 2000"
   ]
  },
  {
   "cell_type": "code",
   "execution_count": 8,
   "metadata": {
    "scrolled": false
   },
   "outputs": [
    {
     "name": "stdout",
     "output_type": "stream",
     "text": [
      "Epoch:     1/ 2000, MSE : 1.13, KL : 0.08\n",
      "Epoch:   101/ 2000, MSE : 0.64, KL : 0.36\n",
      "Epoch:   201/ 2000, MSE : 0.46, KL : 0.57\n",
      "Epoch:   301/ 2000, MSE : 0.59, KL : 0.69\n",
      "Epoch:   401/ 2000, MSE : 0.26, KL : 0.83\n",
      "Epoch:   501/ 2000, MSE : 0.19, KL : 0.93\n",
      "Epoch:   601/ 2000, MSE : 0.24, KL : 1.04\n",
      "Epoch:   701/ 2000, MSE : 0.22, KL : 1.10\n",
      "Epoch:   801/ 2000, MSE : 0.05, KL : 1.14\n",
      "Epoch:   901/ 2000, MSE : 0.15, KL : 1.08\n",
      "Epoch:  1001/ 2000, MSE : 0.06, KL : 1.03\n",
      "Epoch:  1101/ 2000, MSE : 0.15, KL : 0.95\n",
      "Epoch:  1201/ 2000, MSE : 0.04, KL : 0.90\n",
      "Epoch:  1301/ 2000, MSE : 0.10, KL : 0.88\n",
      "Epoch:  1401/ 2000, MSE : 0.03, KL : 0.85\n",
      "Epoch:  1501/ 2000, MSE : 0.02, KL : 0.83\n",
      "Epoch:  1601/ 2000, MSE : 0.03, KL : 0.79\n",
      "Epoch:  1701/ 2000, MSE : 0.03, KL : 0.80\n",
      "Epoch:  1801/ 2000, MSE : 0.06, KL : 0.79\n",
      "Epoch:  1901/ 2000, MSE : 0.04, KL : 0.80\n",
      "Epoch:  2000/ 2000, MSE : 0.02, KL : 0.74\n",
      "Final Errors:       MSE : 0.02, KL : 0.74\n"
     ]
    }
   ],
   "source": [
    "# BNN TRAINING\n",
    "# Define the training loop:\n",
    "for step in range(epochs):\n",
    "    # Calculate the parameters and associated losses:\n",
    "    pre = model(x)\n",
    "    mse = mse_loss(pre, y)\n",
    "    kl = kl_loss(model)\n",
    "    cost = mse + kl_weight*kl\n",
    "    # Optimise the parameters by adjusting the gradient:\n",
    "    optimizer.zero_grad()\n",
    "    cost.backward()\n",
    "    optimizer.step()\n",
    "    # Display the training progress for visual feedback:\n",
    "    if step % 100 == 0 or step == epochs - 1:\n",
    "        print(\"Epoch: %5d/%5d, MSE : %2.2f, KL : %2.2f\" %\n",
    "              (step + 1, epochs, mse.item(), kl.item()))\n",
    "# Display the final MSE and KL loss of the trained BNN:\n",
    "print('Final Errors:       MSE : %2.2f, KL : %2.2f' % (mse.item(), kl.item()))"
   ]
  },
  {
   "cell_type": "code",
   "execution_count": 9,
   "metadata": {},
   "outputs": [],
   "source": [
    "# DATA PREPARATION\n",
    "# State the testing data type as float values:\n",
    "x_test = x_test.float()\n",
    "# Unsqueeze the data to the appropiate 3D dimension:\n",
    "x_test = torch.unsqueeze(x_test, dim=1)"
   ]
  },
  {
   "cell_type": "code",
   "execution_count": 10,
   "metadata": {},
   "outputs": [
    {
     "name": "stdout",
     "output_type": "stream",
     "text": [
      "torch.Size([5, 1, 240])\n"
     ]
    }
   ],
   "source": [
    "print(x_test.shape)"
   ]
  },
  {
   "cell_type": "code",
   "execution_count": 11,
   "metadata": {
    "scrolled": true
   },
   "outputs": [],
   "source": [
    "# MODEL OUTPUT\n",
    "# State the number of desired predictions:\n",
    "pred = 10\n",
    "# Create an empty dataframe to contain the predictions:\n",
    "predictions = pd.DataFrame()\n",
    "# Loop to make the predictions:\n",
    "for pred in range(pred):\n",
    "    # Make a prediction:\n",
    "    y_predict = model(x_test)\n",
    "    # Squeeze the prediction back to a 2D matrix:\n",
    "    y_predict = torch.squeeze(y_predict, dim=1)\n",
    "    # Convert the tensor to a numpy array:\n",
    "    np_pred = y_predict.detach().numpy()\n",
    "    # Convert the numpy array to a dataframe:\n",
    "    pd_pred = pd.DataFrame(np_pred)\n",
    "    # Append the prediction to the predictions dataframe:\n",
    "    predictions[pred] = pd_pred.iloc[:,0]"
   ]
  },
  {
   "cell_type": "code",
   "execution_count": 12,
   "metadata": {},
   "outputs": [
    {
     "data": {
      "text/html": [
       "<div>\n",
       "<style scoped>\n",
       "    .dataframe tbody tr th:only-of-type {\n",
       "        vertical-align: middle;\n",
       "    }\n",
       "\n",
       "    .dataframe tbody tr th {\n",
       "        vertical-align: top;\n",
       "    }\n",
       "\n",
       "    .dataframe thead th {\n",
       "        text-align: right;\n",
       "    }\n",
       "</style>\n",
       "<table border=\"1\" class=\"dataframe\">\n",
       "  <thead>\n",
       "    <tr style=\"text-align: right;\">\n",
       "      <th></th>\n",
       "      <th>0</th>\n",
       "      <th>1</th>\n",
       "      <th>2</th>\n",
       "      <th>3</th>\n",
       "      <th>4</th>\n",
       "      <th>5</th>\n",
       "      <th>6</th>\n",
       "      <th>7</th>\n",
       "      <th>8</th>\n",
       "      <th>9</th>\n",
       "    </tr>\n",
       "  </thead>\n",
       "  <tbody>\n",
       "    <tr>\n",
       "      <th>0</th>\n",
       "      <td>-0.100422</td>\n",
       "      <td>0.265459</td>\n",
       "      <td>0.350932</td>\n",
       "      <td>-0.048768</td>\n",
       "      <td>0.368419</td>\n",
       "      <td>-0.125832</td>\n",
       "      <td>0.436770</td>\n",
       "      <td>0.427046</td>\n",
       "      <td>0.176620</td>\n",
       "      <td>0.003099</td>\n",
       "    </tr>\n",
       "    <tr>\n",
       "      <th>1</th>\n",
       "      <td>0.267999</td>\n",
       "      <td>0.845866</td>\n",
       "      <td>0.829247</td>\n",
       "      <td>0.371524</td>\n",
       "      <td>0.667011</td>\n",
       "      <td>0.400077</td>\n",
       "      <td>0.753102</td>\n",
       "      <td>0.523391</td>\n",
       "      <td>1.094815</td>\n",
       "      <td>0.504238</td>\n",
       "    </tr>\n",
       "    <tr>\n",
       "      <th>2</th>\n",
       "      <td>0.454016</td>\n",
       "      <td>0.812671</td>\n",
       "      <td>0.975830</td>\n",
       "      <td>0.502209</td>\n",
       "      <td>1.136629</td>\n",
       "      <td>0.635282</td>\n",
       "      <td>1.432147</td>\n",
       "      <td>0.867086</td>\n",
       "      <td>1.426483</td>\n",
       "      <td>0.663989</td>\n",
       "    </tr>\n",
       "    <tr>\n",
       "      <th>3</th>\n",
       "      <td>-0.182855</td>\n",
       "      <td>-0.065810</td>\n",
       "      <td>-0.432779</td>\n",
       "      <td>-0.357948</td>\n",
       "      <td>-0.086900</td>\n",
       "      <td>-0.355956</td>\n",
       "      <td>-0.077723</td>\n",
       "      <td>-0.084005</td>\n",
       "      <td>-0.090720</td>\n",
       "      <td>-0.234773</td>\n",
       "    </tr>\n",
       "    <tr>\n",
       "      <th>4</th>\n",
       "      <td>-0.053049</td>\n",
       "      <td>0.033031</td>\n",
       "      <td>0.093225</td>\n",
       "      <td>-0.143480</td>\n",
       "      <td>0.148916</td>\n",
       "      <td>-0.075994</td>\n",
       "      <td>0.148679</td>\n",
       "      <td>0.119788</td>\n",
       "      <td>0.100543</td>\n",
       "      <td>-0.021568</td>\n",
       "    </tr>\n",
       "  </tbody>\n",
       "</table>\n",
       "</div>"
      ],
      "text/plain": [
       "          0         1         2         3         4         5         6  \\\n",
       "0 -0.100422  0.265459  0.350932 -0.048768  0.368419 -0.125832  0.436770   \n",
       "1  0.267999  0.845866  0.829247  0.371524  0.667011  0.400077  0.753102   \n",
       "2  0.454016  0.812671  0.975830  0.502209  1.136629  0.635282  1.432147   \n",
       "3 -0.182855 -0.065810 -0.432779 -0.357948 -0.086900 -0.355956 -0.077723   \n",
       "4 -0.053049  0.033031  0.093225 -0.143480  0.148916 -0.075994  0.148679   \n",
       "\n",
       "          7         8         9  \n",
       "0  0.427046  0.176620  0.003099  \n",
       "1  0.523391  1.094815  0.504238  \n",
       "2  0.867086  1.426483  0.663989  \n",
       "3 -0.084005 -0.090720 -0.234773  \n",
       "4  0.119788  0.100543 -0.021568  "
      ]
     },
     "execution_count": 12,
     "metadata": {},
     "output_type": "execute_result"
    }
   ],
   "source": [
    "# Display the dataframe for visual inspection:\n",
    "predictions"
   ]
  },
  {
   "cell_type": "code",
   "execution_count": 13,
   "metadata": {
    "scrolled": false
   },
   "outputs": [],
   "source": [
    "# PREDICTION DESTANDARDISATION:\n",
    "# Destandardise the predicted viscosities with the same parameters used for its standardisation:\n",
    "destand_pred = predictions * 39436.97081 + 301200.0"
   ]
  },
  {
   "cell_type": "code",
   "execution_count": 14,
   "metadata": {},
   "outputs": [
    {
     "data": {
      "text/html": [
       "<div>\n",
       "<style scoped>\n",
       "    .dataframe tbody tr th:only-of-type {\n",
       "        vertical-align: middle;\n",
       "    }\n",
       "\n",
       "    .dataframe tbody tr th {\n",
       "        vertical-align: top;\n",
       "    }\n",
       "\n",
       "    .dataframe thead th {\n",
       "        text-align: right;\n",
       "    }\n",
       "</style>\n",
       "<table border=\"1\" class=\"dataframe\">\n",
       "  <thead>\n",
       "    <tr style=\"text-align: right;\">\n",
       "      <th></th>\n",
       "      <th>0</th>\n",
       "      <th>1</th>\n",
       "      <th>2</th>\n",
       "      <th>3</th>\n",
       "      <th>4</th>\n",
       "      <th>5</th>\n",
       "      <th>6</th>\n",
       "      <th>7</th>\n",
       "      <th>8</th>\n",
       "      <th>9</th>\n",
       "    </tr>\n",
       "  </thead>\n",
       "  <tbody>\n",
       "    <tr>\n",
       "      <th>0</th>\n",
       "      <td>297239.65625</td>\n",
       "      <td>311668.87500</td>\n",
       "      <td>315039.71875</td>\n",
       "      <td>299276.75000</td>\n",
       "      <td>315729.31250</td>\n",
       "      <td>296237.56250</td>\n",
       "      <td>318424.90625</td>\n",
       "      <td>318041.37500</td>\n",
       "      <td>308165.37500</td>\n",
       "      <td>301322.21875</td>\n",
       "    </tr>\n",
       "    <tr>\n",
       "      <th>1</th>\n",
       "      <td>311769.06250</td>\n",
       "      <td>334558.40625</td>\n",
       "      <td>333903.00000</td>\n",
       "      <td>315851.78125</td>\n",
       "      <td>327504.87500</td>\n",
       "      <td>316977.81250</td>\n",
       "      <td>330900.06250</td>\n",
       "      <td>321840.93750</td>\n",
       "      <td>344376.18750</td>\n",
       "      <td>321085.62500</td>\n",
       "    </tr>\n",
       "    <tr>\n",
       "      <th>2</th>\n",
       "      <td>319105.00000</td>\n",
       "      <td>333249.28125</td>\n",
       "      <td>339683.78125</td>\n",
       "      <td>321005.59375</td>\n",
       "      <td>346025.21875</td>\n",
       "      <td>326253.59375</td>\n",
       "      <td>357679.53125</td>\n",
       "      <td>335395.25000</td>\n",
       "      <td>357456.15625</td>\n",
       "      <td>327385.71875</td>\n",
       "    </tr>\n",
       "    <tr>\n",
       "      <th>3</th>\n",
       "      <td>293988.75000</td>\n",
       "      <td>298604.65625</td>\n",
       "      <td>284132.50000</td>\n",
       "      <td>287083.62500</td>\n",
       "      <td>297772.93750</td>\n",
       "      <td>287162.15625</td>\n",
       "      <td>298134.84375</td>\n",
       "      <td>297887.09375</td>\n",
       "      <td>297622.28125</td>\n",
       "      <td>291941.28125</td>\n",
       "    </tr>\n",
       "    <tr>\n",
       "      <th>4</th>\n",
       "      <td>299107.90625</td>\n",
       "      <td>302502.65625</td>\n",
       "      <td>304876.50000</td>\n",
       "      <td>295541.56250</td>\n",
       "      <td>307072.81250</td>\n",
       "      <td>298203.00000</td>\n",
       "      <td>307063.43750</td>\n",
       "      <td>305924.09375</td>\n",
       "      <td>305165.12500</td>\n",
       "      <td>300349.43750</td>\n",
       "    </tr>\n",
       "  </tbody>\n",
       "</table>\n",
       "</div>"
      ],
      "text/plain": [
       "              0             1             2             3             4  \\\n",
       "0  297239.65625  311668.87500  315039.71875  299276.75000  315729.31250   \n",
       "1  311769.06250  334558.40625  333903.00000  315851.78125  327504.87500   \n",
       "2  319105.00000  333249.28125  339683.78125  321005.59375  346025.21875   \n",
       "3  293988.75000  298604.65625  284132.50000  287083.62500  297772.93750   \n",
       "4  299107.90625  302502.65625  304876.50000  295541.56250  307072.81250   \n",
       "\n",
       "              5             6             7             8             9  \n",
       "0  296237.56250  318424.90625  318041.37500  308165.37500  301322.21875  \n",
       "1  316977.81250  330900.06250  321840.93750  344376.18750  321085.62500  \n",
       "2  326253.59375  357679.53125  335395.25000  357456.15625  327385.71875  \n",
       "3  287162.15625  298134.84375  297887.09375  297622.28125  291941.28125  \n",
       "4  298203.00000  307063.43750  305924.09375  305165.12500  300349.43750  "
      ]
     },
     "execution_count": 14,
     "metadata": {},
     "output_type": "execute_result"
    }
   ],
   "source": [
    "# Display the dataframe for visual inspection:\n",
    "destand_pred"
   ]
  },
  {
   "cell_type": "code",
   "execution_count": 16,
   "metadata": {
    "scrolled": false
   },
   "outputs": [],
   "source": [
    "# PREDICTIONS PARAMETERS\n",
    "# Create empty dataframes to contain the average and standard deviation of the predictions:\n",
    "performance = pd.DataFrame()\n",
    "# Calculate the average of the predictions:\n",
    "performance['Avg'] = destand_pred.iloc[:, :].mean(axis = 1)\n",
    "# Calculate the standard deviation of the predictions:\n",
    "performance['Std'] = destand_pred.iloc[:, :].std(axis = 1, ddof = 0)"
   ]
  },
  {
   "cell_type": "code",
   "execution_count": 17,
   "metadata": {},
   "outputs": [
    {
     "data": {
      "text/html": [
       "<div>\n",
       "<style scoped>\n",
       "    .dataframe tbody tr th:only-of-type {\n",
       "        vertical-align: middle;\n",
       "    }\n",
       "\n",
       "    .dataframe tbody tr th {\n",
       "        vertical-align: top;\n",
       "    }\n",
       "\n",
       "    .dataframe thead th {\n",
       "        text-align: right;\n",
       "    }\n",
       "</style>\n",
       "<table border=\"1\" class=\"dataframe\">\n",
       "  <thead>\n",
       "    <tr style=\"text-align: right;\">\n",
       "      <th></th>\n",
       "      <th>Avg</th>\n",
       "      <th>Std</th>\n",
       "    </tr>\n",
       "  </thead>\n",
       "  <tbody>\n",
       "    <tr>\n",
       "      <th>0</th>\n",
       "      <td>308114.56250</td>\n",
       "      <td>8408.283203</td>\n",
       "    </tr>\n",
       "    <tr>\n",
       "      <th>1</th>\n",
       "      <td>325876.81250</td>\n",
       "      <td>9632.580078</td>\n",
       "    </tr>\n",
       "    <tr>\n",
       "      <th>2</th>\n",
       "      <td>336323.93750</td>\n",
       "      <td>13155.981445</td>\n",
       "    </tr>\n",
       "    <tr>\n",
       "      <th>3</th>\n",
       "      <td>293433.00000</td>\n",
       "      <td>5232.101562</td>\n",
       "    </tr>\n",
       "    <tr>\n",
       "      <th>4</th>\n",
       "      <td>302580.65625</td>\n",
       "      <td>3862.135010</td>\n",
       "    </tr>\n",
       "  </tbody>\n",
       "</table>\n",
       "</div>"
      ],
      "text/plain": [
       "            Avg           Std\n",
       "0  308114.56250   8408.283203\n",
       "1  325876.81250   9632.580078\n",
       "2  336323.93750  13155.981445\n",
       "3  293433.00000   5232.101562\n",
       "4  302580.65625   3862.135010"
      ]
     },
     "execution_count": 17,
     "metadata": {},
     "output_type": "execute_result"
    }
   ],
   "source": [
    "# Display the dataframes for visual inspection:\n",
    "performance"
   ]
  },
  {
   "cell_type": "code",
   "execution_count": 29,
   "metadata": {},
   "outputs": [],
   "source": [
    "# PREDICTION UNCERTAINTY\n",
    "# Calculate uncertainty percentage in terms of the 95% confidence interval (2 Standard Deviations):\n",
    "uncertainty = pd.DataFrame()\n",
    "uncertainty['95% Confidence'] = 2 * performance['Std'] / performance['Avg'] * 100"
   ]
  },
  {
   "cell_type": "code",
   "execution_count": 30,
   "metadata": {},
   "outputs": [
    {
     "data": {
      "text/html": [
       "<div>\n",
       "<style scoped>\n",
       "    .dataframe tbody tr th:only-of-type {\n",
       "        vertical-align: middle;\n",
       "    }\n",
       "\n",
       "    .dataframe tbody tr th {\n",
       "        vertical-align: top;\n",
       "    }\n",
       "\n",
       "    .dataframe thead th {\n",
       "        text-align: right;\n",
       "    }\n",
       "</style>\n",
       "<table border=\"1\" class=\"dataframe\">\n",
       "  <thead>\n",
       "    <tr style=\"text-align: right;\">\n",
       "      <th></th>\n",
       "      <th>95% Confidence</th>\n",
       "    </tr>\n",
       "  </thead>\n",
       "  <tbody>\n",
       "    <tr>\n",
       "      <th>0</th>\n",
       "      <td>5.457894</td>\n",
       "    </tr>\n",
       "    <tr>\n",
       "      <th>1</th>\n",
       "      <td>5.911792</td>\n",
       "    </tr>\n",
       "    <tr>\n",
       "      <th>2</th>\n",
       "      <td>7.823399</td>\n",
       "    </tr>\n",
       "    <tr>\n",
       "      <th>3</th>\n",
       "      <td>3.566130</td>\n",
       "    </tr>\n",
       "    <tr>\n",
       "      <th>4</th>\n",
       "      <td>2.552797</td>\n",
       "    </tr>\n",
       "  </tbody>\n",
       "</table>\n",
       "</div>"
      ],
      "text/plain": [
       "   95% Confidence\n",
       "0        5.457894\n",
       "1        5.911792\n",
       "2        7.823399\n",
       "3        3.566130\n",
       "4        2.552797"
      ]
     },
     "execution_count": 30,
     "metadata": {},
     "output_type": "execute_result"
    }
   ],
   "source": [
    "# Display the dataframe for visual inspection:\n",
    "uncertainty"
   ]
  },
  {
   "cell_type": "code",
   "execution_count": 32,
   "metadata": {},
   "outputs": [],
   "source": [
    "results = pd.DataFrame()\n",
    "results['Prediction'] = performance['Avg']\n",
    "results['Uncertainty'] = uncertainty['95% Confidence']"
   ]
  },
  {
   "cell_type": "code",
   "execution_count": 33,
   "metadata": {},
   "outputs": [
    {
     "data": {
      "text/html": [
       "<div>\n",
       "<style scoped>\n",
       "    .dataframe tbody tr th:only-of-type {\n",
       "        vertical-align: middle;\n",
       "    }\n",
       "\n",
       "    .dataframe tbody tr th {\n",
       "        vertical-align: top;\n",
       "    }\n",
       "\n",
       "    .dataframe thead th {\n",
       "        text-align: right;\n",
       "    }\n",
       "</style>\n",
       "<table border=\"1\" class=\"dataframe\">\n",
       "  <thead>\n",
       "    <tr style=\"text-align: right;\">\n",
       "      <th></th>\n",
       "      <th>Prediction</th>\n",
       "      <th>Uncertainty</th>\n",
       "    </tr>\n",
       "  </thead>\n",
       "  <tbody>\n",
       "    <tr>\n",
       "      <th>0</th>\n",
       "      <td>308114.56250</td>\n",
       "      <td>5.457894</td>\n",
       "    </tr>\n",
       "    <tr>\n",
       "      <th>1</th>\n",
       "      <td>325876.81250</td>\n",
       "      <td>5.911792</td>\n",
       "    </tr>\n",
       "    <tr>\n",
       "      <th>2</th>\n",
       "      <td>336323.93750</td>\n",
       "      <td>7.823399</td>\n",
       "    </tr>\n",
       "    <tr>\n",
       "      <th>3</th>\n",
       "      <td>293433.00000</td>\n",
       "      <td>3.566130</td>\n",
       "    </tr>\n",
       "    <tr>\n",
       "      <th>4</th>\n",
       "      <td>302580.65625</td>\n",
       "      <td>2.552797</td>\n",
       "    </tr>\n",
       "  </tbody>\n",
       "</table>\n",
       "</div>"
      ],
      "text/plain": [
       "     Prediction  Uncertainty\n",
       "0  308114.56250     5.457894\n",
       "1  325876.81250     5.911792\n",
       "2  336323.93750     7.823399\n",
       "3  293433.00000     3.566130\n",
       "4  302580.65625     2.552797"
      ]
     },
     "execution_count": 33,
     "metadata": {},
     "output_type": "execute_result"
    }
   ],
   "source": [
    "results"
   ]
  },
  {
   "cell_type": "code",
   "execution_count": null,
   "metadata": {},
   "outputs": [],
   "source": [
    "# Author: Pablo Caetano.\n",
    "\n",
    "# The author is hereby defined as the natural person who adapted the original \"software\" to serve its designated purpose,\n",
    "# and who is in turn subject to the copyright notice displayed below.\n",
    "\n",
    "# THE SOFTWARE IS PROVIDED \"AS IS\", WITHOUT WARRANTY OF ANY KIND, EXPRESS OR\n",
    "# IMPLIED, INCLUDING BUT NOT LIMITED TO THE WARRANTIES OF MERCHANTABILITY,\n",
    "# FITNESS FOR A PARTICULAR PURPOSE AND NONINFRINGEMENT. IN NO EVENT SHALL THE\n",
    "# AUTHORS OR COPYRIGHT HOLDERS BE LIABLE FOR ANY CLAIM, DAMAGES OR OTHER\n",
    "# LIABILITY, WHETHER IN AN ACTION OF CONTRACT, TORT OR OTHERWISE, ARISING FROM,\n",
    "# OUT OF OR IN CONNECTION WITH THE SOFTWARE OR THE USE OR OTHER DEALINGS IN THE\n",
    "# SOFTWARE.\n",
    "\n",
    "# MIT License\n",
    "# Copyright (c) 2019 Harry Kim"
   ]
  }
 ],
 "metadata": {
  "kernelspec": {
   "display_name": "Python 3",
   "language": "python",
   "name": "python3"
  },
  "language_info": {
   "codemirror_mode": {
    "name": "ipython",
    "version": 3
   },
   "file_extension": ".py",
   "mimetype": "text/x-python",
   "name": "python",
   "nbconvert_exporter": "python",
   "pygments_lexer": "ipython3",
   "version": "3.8.5"
  }
 },
 "nbformat": 4,
 "nbformat_minor": 2
}
